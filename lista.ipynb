{
  "nbformat": 4,
  "nbformat_minor": 0,
  "metadata": {
    "colab": {
      "provenance": [],
      "authorship_tag": "ABX9TyPObm0+GUZw7VAYAB0bK0OH",
      "include_colab_link": true
    },
    "kernelspec": {
      "name": "python3",
      "display_name": "Python 3"
    },
    "language_info": {
      "name": "python"
    }
  },
  "cells": [
    {
      "cell_type": "markdown",
      "metadata": {
        "id": "view-in-github",
        "colab_type": "text"
      },
      "source": [
        "<a href=\"https://colab.research.google.com/github/corincha/corin/blob/main/lista.ipynb\" target=\"_parent\"><img src=\"https://colab.research.google.com/assets/colab-badge.svg\" alt=\"Open In Colab\"/></a>"
      ]
    },
    {
      "cell_type": "code",
      "execution_count": null,
      "metadata": {
        "id": "Bvk_yQqmq3pQ"
      },
      "outputs": [],
      "source": []
    },
    {
      "cell_type": "code",
      "source": [
        "lis = ()\n",
        "lis"
      ],
      "metadata": {
        "colab": {
          "base_uri": "https://localhost:8080/"
        },
        "id": "ifFFd9wrrud3",
        "outputId": "dbae66ed-897c-4c4d-f381-0858e4e1f62f"
      },
      "execution_count": 2,
      "outputs": [
        {
          "output_type": "execute_result",
          "data": {
            "text/plain": [
              "()"
            ]
          },
          "metadata": {},
          "execution_count": 2
        }
      ]
    },
    {
      "cell_type": "code",
      "source": [
        "listaNumeros = [0,1,2,3,4,5]\n",
        "listaNumeros.append(6)\n",
        "listaNumeros"
      ],
      "metadata": {
        "colab": {
          "base_uri": "https://localhost:8080/"
        },
        "id": "zr6taraUurbh",
        "outputId": "6c4c76fc-0594-4d90-9830-6933a7032f83"
      },
      "execution_count": 3,
      "outputs": [
        {
          "output_type": "execute_result",
          "data": {
            "text/plain": [
              "[0, 1, 2, 3, 4, 5, 6]"
            ]
          },
          "metadata": {},
          "execution_count": 3
        }
      ]
    },
    {
      "cell_type": "code",
      "source": [
        "listaNumeros.insert(0,-1)\n",
        "listaNumeros"
      ],
      "metadata": {
        "colab": {
          "base_uri": "https://localhost:8080/"
        },
        "id": "ijykQN_GwDf2",
        "outputId": "5b66f338-2f68-409f-be00-d67c32822cee"
      },
      "execution_count": 4,
      "outputs": [
        {
          "output_type": "execute_result",
          "data": {
            "text/plain": [
              "[-1, 0, 1, 2, 3, 4, 5, 6]"
            ]
          },
          "metadata": {},
          "execution_count": 4
        }
      ]
    },
    {
      "cell_type": "code",
      "source": [
        "listaNumeros.remove(3)\n",
        "listaNumeros"
      ],
      "metadata": {
        "colab": {
          "base_uri": "https://localhost:8080/"
        },
        "id": "bHCIWPCBwSzF",
        "outputId": "0d5325ff-bc95-42ff-c5c9-8cfde53a1736"
      },
      "execution_count": 5,
      "outputs": [
        {
          "output_type": "execute_result",
          "data": {
            "text/plain": [
              "[-1, 0, 1, 2, 4, 5, 6]"
            ]
          },
          "metadata": {},
          "execution_count": 5
        }
      ]
    },
    {
      "cell_type": "code",
      "source": [
        "listaNumeros[:4]"
      ],
      "metadata": {
        "colab": {
          "base_uri": "https://localhost:8080/"
        },
        "id": "2-YbZf8QwiJM",
        "outputId": "8c76f555-3cdf-416e-d1cb-1a26472b2445"
      },
      "execution_count": 9,
      "outputs": [
        {
          "output_type": "execute_result",
          "data": {
            "text/plain": [
              "[-1, 0, 1, 2]"
            ]
          },
          "metadata": {},
          "execution_count": 9
        }
      ]
    },
    {
      "cell_type": "markdown",
      "source": [],
      "metadata": {
        "id": "dTUquc_F0Mzq"
      }
    },
    {
      "cell_type": "code",
      "source": [
        "listaNumerosInvertidos = listaNumeros [::-1]\n",
        "listaNumeros.reverse()\n",
        "print(listaNumeros)\n",
        "print(listaNumerosInvertidos)"
      ],
      "metadata": {
        "colab": {
          "base_uri": "https://localhost:8080/"
        },
        "id": "EHqKE2d1xI2W",
        "outputId": "38de1a7c-3d4a-4338-aee4-05f5f8de8e0b"
      },
      "execution_count": 11,
      "outputs": [
        {
          "output_type": "stream",
          "name": "stdout",
          "text": [
            "[6, 5, 4, 2, 1, 0, -1]\n",
            "[6, 5, 4, 2, 1, 0, -1]\n"
          ]
        }
      ]
    },
    {
      "cell_type": "code",
      "source": [
        "listaNumeros.index(2)"
      ],
      "metadata": {
        "colab": {
          "base_uri": "https://localhost:8080/"
        },
        "id": "LfJtfo8dx8yK",
        "outputId": "a7a5574d-723c-454d-a7e1-c3e2caeacd7a"
      },
      "execution_count": 13,
      "outputs": [
        {
          "output_type": "execute_result",
          "data": {
            "text/plain": [
              "3"
            ]
          },
          "metadata": {},
          "execution_count": 13
        }
      ]
    },
    {
      "cell_type": "code",
      "source": [
        "print(max(listaNumeros))\n",
        "print(min(listaNumeros))"
      ],
      "metadata": {
        "colab": {
          "base_uri": "https://localhost:8080/"
        },
        "id": "Fj-bAsGNyOKR",
        "outputId": "c910be26-a39b-4694-9544-8877dc616973"
      },
      "execution_count": 15,
      "outputs": [
        {
          "output_type": "stream",
          "name": "stdout",
          "text": [
            "6\n",
            "-1\n"
          ]
        }
      ]
    },
    {
      "cell_type": "code",
      "source": [
        "listaNumeros.sort(reverse = True)\n",
        "listaNumeros"
      ],
      "metadata": {
        "colab": {
          "base_uri": "https://localhost:8080/"
        },
        "id": "Kokt5JcbyhOe",
        "outputId": "1f67308c-c9c0-47fd-ab00-d184dd47c679"
      },
      "execution_count": 16,
      "outputs": [
        {
          "output_type": "execute_result",
          "data": {
            "text/plain": [
              "[6, 5, 4, 2, 1, 0, -1]"
            ]
          },
          "metadata": {},
          "execution_count": 16
        }
      ]
    },
    {
      "cell_type": "code",
      "source": [
        "listaNumerosCopy = listaNumeros\n",
        "listaNumerosCopy.append('A')\n",
        "listaNumeros"
      ],
      "metadata": {
        "colab": {
          "base_uri": "https://localhost:8080/"
        },
        "id": "y63Uu8rozv0m",
        "outputId": "7541d6db-d7a3-44f9-abd7-8674c5dbd4a9"
      },
      "execution_count": 21,
      "outputs": [
        {
          "output_type": "execute_result",
          "data": {
            "text/plain": [
              "[5, 1, 0, 'A']"
            ]
          },
          "metadata": {},
          "execution_count": 21
        }
      ]
    },
    {
      "cell_type": "code",
      "source": [
        "listaNumerosDeepCopy = listaNumeros.copy()\n",
        "listaNumerosDeepCopy.append('B')\n",
        "listaNumeros"
      ],
      "metadata": {
        "colab": {
          "base_uri": "https://localhost:8080/"
        },
        "id": "zsVC3TSl11K0",
        "outputId": "efaec419-b82c-4885-ebb1-dae5f09e0499"
      },
      "execution_count": 25,
      "outputs": [
        {
          "output_type": "execute_result",
          "data": {
            "text/plain": [
              "[5, 1, 0, 'A']"
            ]
          },
          "metadata": {},
          "execution_count": 25
        }
      ]
    },
    {
      "cell_type": "code",
      "source": [
        "listaNumerosDeepCopy\n"
      ],
      "metadata": {
        "colab": {
          "base_uri": "https://localhost:8080/"
        },
        "id": "Q16j27Rg17-p",
        "outputId": "bda08ed9-81c5-4167-ccf5-f366d49e65a0"
      },
      "execution_count": 26,
      "outputs": [
        {
          "output_type": "execute_result",
          "data": {
            "text/plain": [
              "[5, 1, 0, 'A', 'B']"
            ]
          },
          "metadata": {},
          "execution_count": 26
        }
      ]
    },
    {
      "cell_type": "code",
      "source": [
        "listaNumeros.pop(0)\n",
        "listaNumeros"
      ],
      "metadata": {
        "colab": {
          "base_uri": "https://localhost:8080/"
        },
        "id": "C8nbsbSfzJ7R",
        "outputId": "7f88fb74-85dd-4218-994e-9e22580304a3"
      },
      "execution_count": 20,
      "outputs": [
        {
          "output_type": "execute_result",
          "data": {
            "text/plain": [
              "[5, 1, 0]"
            ]
          },
          "metadata": {},
          "execution_count": 20
        }
      ]
    },
    {
      "cell_type": "code",
      "source": [
        "listaNumerosDeepCopy\n",
        "print(listaNumerosCopy == listaNumeros)\n",
        "print(listaNumerosDeepCopy == listaNumeros)\n",
        "print(listaNumerosCopy is listaNumeros)\n",
        "print(listaNumerosDeepCopy is listaNumerosCopy)"
      ],
      "metadata": {
        "colab": {
          "base_uri": "https://localhost:8080/"
        },
        "id": "m4AUBuWg0kb5",
        "outputId": "a0be7e4a-13a6-4c08-e0f0-2323e3e13c22"
      },
      "execution_count": 27,
      "outputs": [
        {
          "output_type": "stream",
          "name": "stdout",
          "text": [
            "True\n",
            "False\n",
            "True\n",
            "False\n"
          ]
        }
      ]
    }
  ]
}