{
  "cells": [
    {
      "cell_type": "markdown",
      "metadata": {
        "id": "view-in-github",
        "colab_type": "text"
      },
      "source": [
        "<a href=\"https://colab.research.google.com/github/corincha/corin/blob/main/semana1/Copia_de_Ejercicio1_24.ipynb\" target=\"_parent\"><img src=\"https://colab.research.google.com/assets/colab-badge.svg\" alt=\"Open In Colab\"/></a>"
      ]
    },
    {
      "cell_type": "markdown",
      "id": "6bae65f4",
      "metadata": {
        "id": "6bae65f4"
      },
      "source": [
        "# Taller básico pandas - numpy"
      ]
    },
    {
      "cell_type": "code",
      "execution_count": 3,
      "id": "bc1e240c",
      "metadata": {
        "id": "bc1e240c"
      },
      "outputs": [],
      "source": [
        "import pandas as pd"
      ]
    },
    {
      "cell_type": "code",
      "execution_count": 6,
      "id": "fe3e3cc4",
      "metadata": {
        "id": "fe3e3cc4",
        "colab": {
          "base_uri": "https://localhost:8080/"
        },
        "outputId": "e49fb9f4-cdad-4779-d079-b48dc7b71778"
      },
      "outputs": [
        {
          "output_type": "stream",
          "name": "stdout",
          "text": [
            "         Canción         Artista  Duración (segundos)\n",
            "0  Porque te amo    Nino Segarra                  229\n",
            "1      demasiado  Willie Chirino                  233\n",
            "2          Hello           Adele                  200\n"
          ]
        }
      ],
      "source": [
        "# Crear un dataframe que tenga 3 registros(filas) cada una debe contener el nombre de una cancion, el artista que la canta, y la duracion en segundos con panda\n",
        "data = {\n",
        "    'Canción': ['Porque te amo', 'demasiado', 'Hello'],\n",
        "    'Artista': ['Nino Segarra', 'Willie Chirino', 'Adele'],\n",
        "    'Duración (segundos)': [229, 233, 200]\n",
        "}\n",
        "\n",
        "canciones = pd.DataFrame(data)\n",
        "\n",
        "print(canciones)\n"
      ]
    },
    {
      "cell_type": "code",
      "execution_count": 23,
      "id": "38d4ed46",
      "metadata": {
        "id": "38d4ed46",
        "colab": {
          "base_uri": "https://localhost:8080/"
        },
        "outputId": "325270e8-52f9-4dbb-e74b-8cbadb990a41"
      },
      "outputs": [
        {
          "output_type": "stream",
          "name": "stdout",
          "text": [
            "Últimas filas del DataFrame:\n",
            "         Canción         Artista  Duración (segundos)\n",
            "0  Porque te amo    Nino Segarra                  229\n",
            "1      demasiado  Willie Chirino                  233\n",
            "2          Hello           Adele                  200\n",
            "\n",
            "últimas 2 filas del DataFrame:\n",
            "     Canción         Artista  Duración (segundos)\n",
            "1  demasiado  Willie Chirino                  233\n",
            "2      Hello           Adele                  200\n"
          ]
        }
      ],
      "source": [
        "# Imprimir la cola del dataframe\n",
        "\n",
        "print(\"Últimas filas del DataFrame:\")\n",
        "print(canciones.tail())\n",
        "print(\"\\núltimas 2 filas del DataFrame:\")\n",
        "print(canciones.tail(2))\n",
        "\n",
        "\n"
      ]
    },
    {
      "cell_type": "code",
      "execution_count": 13,
      "id": "79ccb7d9",
      "metadata": {
        "id": "79ccb7d9",
        "colab": {
          "base_uri": "https://localhost:8080/"
        },
        "outputId": "dc8b9193-39c3-438b-d93a-11dbd4d59be8"
      },
      "outputs": [
        {
          "output_type": "stream",
          "name": "stdout",
          "text": [
            "Duración (segundos):\n",
            "0    229\n",
            "1    233\n",
            "2    200\n",
            "Name: Duración (segundos), dtype: int64\n"
          ]
        }
      ],
      "source": [
        "# Acceder a la columna duracion\n",
        "\n",
        "duraciones = canciones['Duración (segundos)']\n",
        "print(\"Duración (segundos):\")\n",
        "print(duraciones)\n"
      ]
    },
    {
      "cell_type": "code",
      "execution_count": 20,
      "id": "0a3732eb",
      "metadata": {
        "id": "0a3732eb",
        "colab": {
          "base_uri": "https://localhost:8080/"
        },
        "outputId": "6e9893b2-872e-44a9-ec38-92f65d466fdf"
      },
      "outputs": [
        {
          "output_type": "stream",
          "name": "stdout",
          "text": [
            "Promedio de las duraciones: 220.66666666666666 segundos\n"
          ]
        }
      ],
      "source": [
        "# Calcular el promedio de las duraciones\n",
        "promDur = duraciones.mean()\n",
        "print(f\"Promedio de las duraciones: {promDur} segundos\")"
      ]
    },
    {
      "cell_type": "code",
      "execution_count": 24,
      "id": "bf77fe95",
      "metadata": {
        "id": "bf77fe95",
        "colab": {
          "base_uri": "https://localhost:8080/"
        },
        "outputId": "02785974-2f74-4d7a-e952-7e85855f2512"
      },
      "outputs": [
        {
          "output_type": "stream",
          "name": "stdout",
          "text": [
            "Canciones con duración mayor que el promedio:\n",
            "['Porque te amo', 'demasiado']\n"
          ]
        }
      ],
      "source": [
        "# Obtener los nombres de las canciones que tengan duracion mayor que el promedio\n",
        "cancionesMP = canciones[canciones['Duración (segundos)'] > promDur]\n",
        "nombresCanciones = cancionesMP['Canción']\n",
        "print(\"Canciones con duración mayor que el promedio:\")\n",
        "print(nombresCanciones.to_list())"
      ]
    },
    {
      "cell_type": "code",
      "execution_count": 25,
      "id": "c4998539",
      "metadata": {
        "id": "c4998539",
        "colab": {
          "base_uri": "https://localhost:8080/"
        },
        "outputId": "48c86ff7-a179-44c1-e958-e870452edae1"
      },
      "outputs": [
        {
          "output_type": "stream",
          "name": "stdout",
          "text": [
            "         Canción         Artista  Duración (segundos)  Mayor que 3 minutos\n",
            "0  Porque te amo    Nino Segarra                  229                 True\n",
            "1      demasiado  Willie Chirino                  233                 True\n",
            "2          Hello           Adele                  200                 True\n"
          ]
        }
      ],
      "source": [
        "# Agregar una columna al dataframe que contenga True si la duracion es mayor que 3 minutos\n",
        "# y false si es menor\n",
        "\n",
        "segundos = 180\n",
        "canciones['Mayor que 3 minutos'] = df['Duración (segundos)'] > segundos\n",
        "print(canciones)"
      ]
    },
    {
      "cell_type": "code",
      "execution_count": 26,
      "id": "baa74c25",
      "metadata": {
        "id": "baa74c25",
        "colab": {
          "base_uri": "https://localhost:8080/"
        },
        "outputId": "676a969b-8425-4b07-9e75-0acff4c6433e"
      },
      "outputs": [
        {
          "output_type": "stream",
          "name": "stdout",
          "text": [
            "Arreglo numpy:\n",
            "[['Porque te amo' 'Nino Segarra' 229 True]\n",
            " ['demasiado' 'Willie Chirino' 233 True]\n",
            " ['Hello' 'Adele' 200 True]]\n"
          ]
        }
      ],
      "source": [
        "# Convertir el dataframe a numpy array\n",
        "\n",
        "array_np = canciones.to_numpy()\n",
        "print(\"Arreglo numpy:\")\n",
        "print(array_np)\n"
      ]
    },
    {
      "cell_type": "code",
      "execution_count": 28,
      "id": "77697675",
      "metadata": {
        "id": "77697675",
        "colab": {
          "base_uri": "https://localhost:8080/"
        },
        "outputId": "dbe4dcbc-c923-4851-fcf0-bf89f0fc6379"
      },
      "outputs": [
        {
          "output_type": "stream",
          "name": "stdout",
          "text": [
            "Forma del arreglo numpy:\n",
            "(3, 4)\n"
          ]
        }
      ],
      "source": [
        "# Imprimir el shape del array\n",
        "\n",
        "data = {\n",
        "    'Canción': ['Porque te amo', 'demasiado', 'Hello'],\n",
        "    'Artista': ['Nino Segarra', 'Willie Chirino', 'Adele'],\n",
        "    'Duración (segundos)': [229, 233, 200],\n",
        "    'Mayor que 3 minutos': [True, True, True]\n",
        "}\n",
        "df = pd.DataFrame(data)\n",
        "array_np = df.to_numpy()\n",
        "shape_array = array_np.shape\n",
        "print(\"Forma del arreglo numpy:\")\n",
        "print(shape_array)\n"
      ]
    },
    {
      "cell_type": "code",
      "execution_count": 29,
      "id": "3caa5fa1",
      "metadata": {
        "id": "3caa5fa1",
        "colab": {
          "base_uri": "https://localhost:8080/"
        },
        "outputId": "6038fe48-0b79-40cb-9a1f-145cbe77cc2a"
      },
      "outputs": [
        {
          "output_type": "stream",
          "name": "stdout",
          "text": [
            "\n",
            "Arreglo numpy después del reshape:\n",
            "['Porque te amo' 'Nino Segarra' 229 True 'demasiado' 'Willie Chirino' 233\n",
            " True 'Hello' 'Adele' 200 True]\n",
            "\n",
            "Forma después del reshape:\n",
            "(12,)\n"
          ]
        }
      ],
      "source": [
        "# Hacer un reshape para convertir el arreglo de 3x4 a un arreglo de 12 elementos\n",
        "\n",
        "array_reshaped = array_np.reshape(-1)\n",
        "\n",
        "\n",
        "print(\"\\nArreglo numpy después del reshape:\")\n",
        "print(array_reshaped)\n",
        "print(\"\\nForma después del reshape:\")\n",
        "print(array_reshaped.shape)"
      ]
    }
  ],
  "metadata": {
    "kernelspec": {
      "display_name": "entornomp",
      "language": "python",
      "name": "entornomp"
    },
    "language_info": {
      "codemirror_mode": {
        "name": "ipython",
        "version": 3
      },
      "file_extension": ".py",
      "mimetype": "text/x-python",
      "name": "python",
      "nbconvert_exporter": "python",
      "pygments_lexer": "ipython3",
      "version": "3.7.10"
    },
    "colab": {
      "provenance": [],
      "include_colab_link": true
    }
  },
  "nbformat": 4,
  "nbformat_minor": 5
}